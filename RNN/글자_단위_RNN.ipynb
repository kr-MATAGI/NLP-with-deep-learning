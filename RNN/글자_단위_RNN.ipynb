{
 "cells": [
  {
   "cell_type": "markdown",
   "id": "42a84212",
   "metadata": {},
   "source": [
    "# 글자 단위 RNN(Char RNN)\n",
    "\n",
    "* 지금까지 배운 RNN은 전부 입력과 출력의 단위가 단어 벡터였다.\n",
    "* 하지만 입출력의 단위를 word-level에서 character-level로 변경하여 RNN을 구현할 수 있다."
   ]
  },
  {
   "cell_type": "markdown",
   "id": "c2541df4",
   "metadata": {},
   "source": [
    "## 글자 단위 RNN 언어 모델(Char RNNLM)\n",
    "\n",
    "* '이상한 나라의 엘리스' 소설을 이용해 구현"
   ]
  },
  {
   "cell_type": "markdown",
   "id": "96971bf0",
   "metadata": {},
   "source": [
    "### 1) 데이터에 대한 이해와 전처리"
   ]
  },
  {
   "cell_type": "code",
   "execution_count": 10,
   "id": "bea8bfde",
   "metadata": {},
   "outputs": [],
   "source": [
    "import numpy as np\n",
    "#import urllib.request\n",
    "from tensorflow.keras.utils import to_categorical"
   ]
  },
  {
   "cell_type": "code",
   "execution_count": 11,
   "id": "58fae23f",
   "metadata": {},
   "outputs": [],
   "source": [
    "file_path = '/home/jaehoon/Desktop/AI_Study/11-0/11-0.txt'\n",
    "\n",
    "with open(file_path, 'rb') as file:\n",
    "    lines = list()\n",
    "\n",
    "    for line in file:\n",
    "        line = line.strip()\n",
    "        line = line.lower()\n",
    "        line = line.decode('ascii', 'ignore')\n",
    "        \n",
    "        if len(line) > 0: lines.append(line)"
   ]
  },
  {
   "cell_type": "code",
   "execution_count": 12,
   "id": "b482b0f0",
   "metadata": {},
   "outputs": [
    {
     "data": {
      "text/plain": [
       "['the project gutenberg ebook of alices adventures in wonderland, by lewis carroll',\n",
       " 'this ebook is for the use of anyone anywhere in the united states and',\n",
       " 'most other parts of the world at no cost and with almost no restrictions',\n",
       " 'whatsoever. you may copy it, give it away or re-use it under the terms',\n",
       " 'of the project gutenberg license included with this ebook or online at']"
      ]
     },
     "execution_count": 12,
     "metadata": {},
     "output_type": "execute_result"
    }
   ],
   "source": [
    "lines[:5]"
   ]
  },
  {
   "cell_type": "code",
   "execution_count": 14,
   "id": "b240ab7e",
   "metadata": {},
   "outputs": [
    {
     "name": "stdout",
     "output_type": "stream",
     "text": [
      "문자열의 총 길이: 156675\n",
      "the project gutenberg ebook of alices adventures in wonderland, by lewis carrollthis ebook is for the use of anyone anywhere in the united states andmost other parts of the world at no cost and with a\n"
     ]
    }
   ],
   "source": [
    "# list의 각 원소는 문자열로 구성되어 있고 의미있는 문장 토큰화가 이루어지지 않음\n",
    "# 하나의 문자열로 통합\n",
    "text = ''.join(lines)\n",
    "print(f'문자열의 총 길이: {len(text)}')\n",
    "print(text[:200])"
   ]
  },
  {
   "cell_type": "code",
   "execution_count": 19,
   "id": "75915953",
   "metadata": {},
   "outputs": [
    {
     "name": "stdout",
     "output_type": "stream",
     "text": [
      "글자 집합의 크기: 56 \n",
      "\n",
      "char2Idx: \n",
      " {' ': 0, '!': 1, '\"': 2, '#': 3, '$': 4, '%': 5, \"'\": 6, '(': 7, ')': 8, '*': 9, ',': 10, '-': 11, '.': 12, '/': 13, '0': 14, '1': 15, '2': 16, '3': 17, '4': 18, '5': 19, '6': 20, '7': 21, '8': 22, '9': 23, ':': 24, ';': 25, '?': 26, '[': 27, ']': 28, '_': 29, 'a': 30, 'b': 31, 'c': 32, 'd': 33, 'e': 34, 'f': 35, 'g': 36, 'h': 37, 'i': 38, 'j': 39, 'k': 40, 'l': 41, 'm': 42, 'n': 43, 'o': 44, 'p': 45, 'q': 46, 'r': 47, 's': 48, 't': 49, 'u': 50, 'v': 51, 'w': 52, 'x': 53, 'y': 54, 'z': 55} \n",
      "\n",
      "\n",
      "idx2Char: \n",
      " {0: ' ', 1: '!', 2: '\"', 3: '#', 4: '$', 5: '%', 6: \"'\", 7: '(', 8: ')', 9: '*', 10: ',', 11: '-', 12: '.', 13: '/', 14: '0', 15: '1', 16: '2', 17: '3', 18: '4', 19: '5', 20: '6', 21: '7', 22: '8', 23: '9', 24: ':', 25: ';', 26: '?', 27: '[', 28: ']', 29: '_', 30: 'a', 31: 'b', 32: 'c', 33: 'd', 34: 'e', 35: 'f', 36: 'g', 37: 'h', 38: 'i', 39: 'j', 40: 'k', 41: 'l', 42: 'm', 43: 'n', 44: 'o', 45: 'p', 46: 'q', 47: 'r', 48: 's', 49: 't', 50: 'u', 51: 'v', 52: 'w', 53: 'x', 54: 'y', 55: 'z'}\n"
     ]
    }
   ],
   "source": [
    "# 단어 집합이 아닌 글자 집합을 생성\n",
    "char_vocab = sorted(list(set(text)))\n",
    "vocab_size = len(char_vocab)\n",
    "print(f'글자 집합의 크기: {vocab_size} \\n')\n",
    "\n",
    "char2Idx = { c:i for i,c in enumerate(char_vocab) }\n",
    "print(f'char2Idx: \\n {char2Idx} \\n\\n')\n",
    "\n",
    "idx2Char = { i:c for i,c in enumerate(char_vocab)}\n",
    "print(f'idx2Char: \\n {idx2Char}')"
   ]
  },
  {
   "cell_type": "code",
   "execution_count": 20,
   "id": "70d34a86",
   "metadata": {},
   "outputs": [
    {
     "name": "stdout",
     "output_type": "stream",
     "text": [
      "문장 샘플의 수: 2611\n"
     ]
    }
   ],
   "source": [
    "# 문장의 길이를 60으로 제\n",
    "seq_len = 60\n",
    "\n",
    "# text의 문자열을 60등분\n",
    "n_samples = int(np.floor((len(text)-1) / seq_len))\n",
    "print(f'문장 샘플의 수: {n_samples}')"
   ]
  },
  {
   "cell_type": "code",
   "execution_count": 22,
   "id": "a48852ef",
   "metadata": {},
   "outputs": [],
   "source": [
    "train_X = []\n",
    "train_y = []\n",
    "\n",
    "for i in range(n_samples):\n",
    "    X_sample = text[i * seq_len: (i + 1) * seq_len]\n",
    "    #print(f'X_sample: {X_sample}')\n",
    "    X_encoded = [ char2Idx[ch] for ch in X_sample ]\n",
    "    train_X.append(X_encoded)\n",
    "    \n",
    "    y_sample = text[i * seq_len + 1: (i+1) * seq_len + 1]\n",
    "    y_encoded = [ char2Idx[ch] for ch in y_sample ]\n",
    "    train_y.append(y_encoded)"
   ]
  },
  {
   "cell_type": "code",
   "execution_count": 29,
   "id": "2308ff5e",
   "metadata": {},
   "outputs": [
    {
     "name": "stdout",
     "output_type": "stream",
     "text": [
      "[49, 37, 34, 0, 45, 47, 44, 39, 34, 32, 49, 0, 36, 50, 49, 34, 43, 31, 34, 47, 36, 0, 34, 31, 44, 44, 40, 0, 44, 35, 0, 30, 41, 38, 32, 34, 48, 0, 30, 33, 51, 34, 43, 49, 50, 47, 34, 48, 0, 38, 43, 0, 52, 44, 43, 33, 34, 47, 41, 30] \n",
      "\n",
      "[37, 34, 0, 45, 47, 44, 39, 34, 32, 49, 0, 36, 50, 49, 34, 43, 31, 34, 47, 36, 0, 34, 31, 44, 44, 40, 0, 44, 35, 0, 30, 41, 38, 32, 34, 48, 0, 30, 33, 51, 34, 43, 49, 50, 47, 34, 48, 0, 38, 43, 0, 52, 44, 43, 33, 34, 47, 41, 30, 43]\n",
      "True\n"
     ]
    }
   ],
   "source": [
    "print(train_X[0], '\\n')\n",
    "print(train_y[0])\n",
    "\n",
    "print(train_X[0][1:] == train_y[0][:-1])"
   ]
  },
  {
   "cell_type": "code",
   "execution_count": 30,
   "id": "ccd13de4",
   "metadata": {},
   "outputs": [
    {
     "name": "stdout",
     "output_type": "stream",
     "text": [
      "train_X의 크기: (2611, 60, 56)\n",
      "train_y의 크기: (2611, 60, 56)\n"
     ]
    }
   ],
   "source": [
    "# train_X와 train_y 에 대한 one-hot encoding\n",
    "# 글자 단위 RNN에서는 입력 시퀀스에 대해서 워드 임베딩을 하지 않는다.\n",
    "# 즉, embedding layer를 사용하지 않을 것임\n",
    "\n",
    "train_X = to_categorical(train_X)\n",
    "train_y = to_categorical(train_y)\n",
    "\n",
    "print(f'train_X의 크기: {train_X.shape}')\n",
    "print(f'train_y의 크기: {train_y.shape}')"
   ]
  },
  {
   "attachments": {
    "image.png": {
     "image/png": "[encoded data removed]"
    }
   },
   "cell_type": "markdown",
   "id": "26eeb8fb",
   "metadata": {},
   "source": [
    "![image.png](attachment:image.png)\n",
    "\n",
    "* 샘플의 수: 2611 개\n",
    "* 입력 시퀀스의 길이: 60\n",
    "* 각 벡터의 차원: 56"
   ]
  },
  {
   "cell_type": "markdown",
   "id": "d7057083",
   "metadata": {},
   "source": [
    "### 2) 모델 설계하기"
   ]
  },
  {
   "cell_type": "code",
   "execution_count": 32,
   "id": "bb5ce4cb",
   "metadata": {},
   "outputs": [],
   "source": [
    "from tensorflow.keras.models import Sequential\n",
    "from tensorflow.keras.layers import Dense, LSTM, TimeDistributed"
   ]
  },
  {
   "cell_type": "code",
   "execution_count": 61,
   "id": "421f46a1",
   "metadata": {},
   "outputs": [
    {
     "name": "stdout",
     "output_type": "stream",
     "text": [
      "Epoch 1/2\n",
      "82/82 - 17s - loss: 3.3347 - accuracy: 0.1569\n",
      "Epoch 2/2\n",
      "82/82 - 15s - loss: 3.1149 - accuracy: 0.1728\n",
      "Model: \"sequential_4\"\n",
      "_________________________________________________________________\n",
      "Layer (type)                 Output Shape              Param #   \n",
      "=================================================================\n",
      "lstm_8 (LSTM)                (None, None, 256)         320512    \n",
      "_________________________________________________________________\n",
      "lstm_9 (LSTM)                (None, None, 256)         525312    \n",
      "_________________________________________________________________\n",
      "time_distributed_4 (TimeDist (None, None, 56)          14392     \n",
      "=================================================================\n",
      "Total params: 860,216\n",
      "Trainable params: 860,216\n",
      "Non-trainable params: 0\n",
      "_________________________________________________________________\n"
     ]
    }
   ],
   "source": [
    "model = Sequential()\n",
    "model.add(LSTM(256, input_shape=(None,train_X.shape[-1]), return_sequences=True))\n",
    "model.add(LSTM(256, return_sequences=True))\n",
    "model.add(TimeDistributed(Dense(vocab_size, activation='relu')))\n",
    "\n",
    "model.compile(loss='categorical_crossentropy', \n",
    "              optimizer='adam', \n",
    "              metrics=['accuracy'])\n",
    "model.fit(train_X, train_y, epochs=80, verbose=2)\n",
    "\n",
    "model.summary()"
   ]
  },
  {
   "cell_type": "code",
   "execution_count": 62,
   "id": "c6ba778a",
   "metadata": {},
   "outputs": [],
   "source": [
    "def sentence_generation(model, length):\n",
    "    # 글자에 대한 랜덤 인덱스 생성\n",
    "    rand_idx = [np.random.randint(vocab_size)]\n",
    "    \n",
    "    #idx2Char랜덤 인덱스로부터 글자 생성\n",
    "    y_char = [idx2Char[rand_idx[-1]]]\n",
    "    print(f'{rand_idx[-1]}번 글자, {y_char}로 예측을 시작')\n",
    "    \n",
    "    # (1, length, 56) 크기의 X 생성 (LSTM의 입력 시퀀스)\n",
    "    X = np.zeros((1, length, vocab_size))\n",
    "    \n",
    "    for idx in range(length):\n",
    "        # X[0][idx][예측한 글자의 인덱스] = 1\n",
    "        # 즉, 예측 글자를 다음 입력 시퀀스에 추가\n",
    "        X[0][idx][rand_idx[-1]] = 1\n",
    "        \n",
    "        print(idx2Char[rand_idx[-1]], end=\"\")\n",
    "        rand_idx = np.argmax(model.predict(X[:, :idx+1, :])[0], 1)\n",
    "        y_char.append(idx2Char[rand_idx[-1]])\n",
    "    return ('').join(y_char)"
   ]
  },
  {
   "cell_type": "code",
   "execution_count": 63,
   "id": "7891c0b3",
   "metadata": {},
   "outputs": [
    {
     "name": "stdout",
     "output_type": "stream",
     "text": [
      "47번 글자, ['r']로 예측을 시작\n",
      "r                                                                                                   "
     ]
    },
    {
     "data": {
      "text/plain": [
       "'r                                                                                                    '"
      ]
     },
     "execution_count": 63,
     "metadata": {},
     "output_type": "execute_result"
    }
   ],
   "source": [
    "sentence_generation(model, 100)"
   ]
  },
  {
   "cell_type": "markdown",
   "id": "ee1368e8",
   "metadata": {},
   "source": [
    "## 2. Char RNN으로 텍스트 생성하기\n",
    "\n",
    "* many-to-one 구조의 RNN을 글자 단위로 학습시키고, 텍스트를 생성"
   ]
  },
  {
   "cell_type": "markdown",
   "id": "abd68337",
   "metadata": {},
   "source": [
    "### 1) 데이터의 이해와 전처리"
   ]
  },
  {
   "cell_type": "code",
   "execution_count": 16,
   "id": "f5dec67d",
   "metadata": {},
   "outputs": [],
   "source": [
    "import numpy as np\n",
    "from tensorflow.keras.utils import to_categorical"
   ]
  },
  {
   "cell_type": "code",
   "execution_count": 17,
   "id": "7606e61f",
   "metadata": {},
   "outputs": [],
   "source": [
    "text='''\n",
    "I get on with life as a programmer,\n",
    "I like to contemplate beer.\n",
    "But when I start to daydream,\n",
    "My mind turns straight to wine.\n",
    "\n",
    "Do I love wine more than beer?\n",
    "\n",
    "I like to use words about beer.\n",
    "But when I stop my talking,\n",
    "My mind turns straight to wine.\n",
    "\n",
    "I hate bugs and errors.\n",
    "But I just think back to wine,\n",
    "And I'm happy once again.\n",
    "\n",
    "I like to hang out with programming and deep learning.\n",
    "But when left alone,\n",
    "My mind turns straight to wine.\n",
    "'''"
   ]
  },
  {
   "cell_type": "code",
   "execution_count": 18,
   "id": "0928635a",
   "metadata": {},
   "outputs": [
    {
     "name": "stdout",
     "output_type": "stream",
     "text": [
      "I get on with life as a programmer, I like to contemplate beer. But when I start to daydream, My mind turns straight to wine. Do I love wine more than beer? I like to use words about beer. But when I stop my talking, My mind turns straight to wine. I hate bugs and errors. But I just think back to wine, And I'm happy once again. I like to hang out with programming and deep learning. But when left alone, My mind turns straight to wine.\n"
     ]
    }
   ],
   "source": [
    "tokens = text.split()\n",
    "text = ' '.join(tokens)\n",
    "print(text)"
   ]
  },
  {
   "cell_type": "code",
   "execution_count": 29,
   "id": "e9699045",
   "metadata": {},
   "outputs": [
    {
     "name": "stdout",
     "output_type": "stream",
     "text": [
      "[' ', \"'\", ',', '.', '?', 'A', 'B', 'D', 'I', 'M', 'a', 'b', 'c', 'd', 'e', 'f', 'g', 'h', 'i', 'j', 'k', 'l', 'm', 'n', 'o', 'p', 'r', 's', 't', 'u', 'v', 'w', 'y']\n",
      "33\n"
     ]
    }
   ],
   "source": [
    "char_vocab = sorted(list(set(text)))\n",
    "vocab_size = len(char_vocab)\n",
    "print(char_vocab)\n",
    "print(len(char_vocab))"
   ]
  },
  {
   "cell_type": "code",
   "execution_count": 30,
   "id": "764a7607",
   "metadata": {},
   "outputs": [
    {
     "name": "stdout",
     "output_type": "stream",
     "text": [
      "{' ': 0, \"'\": 1, ',': 2, '.': 3, '?': 4, 'A': 5, 'B': 6, 'D': 7, 'I': 8, 'M': 9, 'a': 10, 'b': 11, 'c': 12, 'd': 13, 'e': 14, 'f': 15, 'g': 16, 'h': 17, 'i': 18, 'j': 19, 'k': 20, 'l': 21, 'm': 22, 'n': 23, 'o': 24, 'p': 25, 'r': 26, 's': 27, 't': 28, 'u': 29, 'v': 30, 'w': 31, 'y': 32}\n"
     ]
    }
   ],
   "source": [
    "char_to_index = {c:i for i, c in enumerate(char_vocab) }\n",
    "print(char_to_index)"
   ]
  },
  {
   "cell_type": "code",
   "execution_count": 31,
   "id": "d2cf8740",
   "metadata": {},
   "outputs": [
    {
     "name": "stdout",
     "output_type": "stream",
     "text": [
      "{0: ' ', 1: \"'\", 2: ',', 3: '.', 4: '?', 5: 'A', 6: 'B', 7: 'D', 8: 'I', 9: 'M', 10: 'a', 11: 'b', 12: 'c', 13: 'd', 14: 'e', 15: 'f', 16: 'g', 17: 'h', 18: 'i', 19: 'j', 20: 'k', 21: 'l', 22: 'm', 23: 'n', 24: 'o', 25: 'p', 26: 'r', 27: 's', 28: 't', 29: 'u', 30: 'v', 31: 'w', 32: 'y'}\n"
     ]
    }
   ],
   "source": [
    "index_to_char = {i:c for i, c in enumerate(char_vocab)}\n",
    "print(index_to_char)"
   ]
  },
  {
   "cell_type": "code",
   "execution_count": 32,
   "id": "7221c20e",
   "metadata": {},
   "outputs": [
    {
     "name": "stdout",
     "output_type": "stream",
     "text": [
      "총 훈련 샘플의 수  426\n"
     ]
    }
   ],
   "source": [
    "# 입력시퀀스의 길이가 11이 되도록 구성\n",
    "\n",
    "length = 11\n",
    "sequences = []\n",
    "for i in range(length, len(text)):\n",
    "    seq = text[i-length:i]\n",
    "    sequences.append(seq)\n",
    "print('총 훈련 샘플의 수 ', len(sequences))"
   ]
  },
  {
   "cell_type": "code",
   "execution_count": 33,
   "id": "66b26a0b",
   "metadata": {},
   "outputs": [
    {
     "data": {
      "text/plain": [
       "['I get on wi',\n",
       " ' get on wit',\n",
       " 'get on with',\n",
       " 'et on with ',\n",
       " 't on with l',\n",
       " ' on with li',\n",
       " 'on with lif',\n",
       " 'n with life',\n",
       " ' with life ',\n",
       " 'with life a']"
      ]
     },
     "execution_count": 33,
     "metadata": {},
     "output_type": "execute_result"
    }
   ],
   "source": [
    "sequences[:10]"
   ]
  },
  {
   "cell_type": "code",
   "execution_count": 34,
   "id": "5a51b6c6",
   "metadata": {},
   "outputs": [],
   "source": [
    "# 정수 인코딩\n",
    "X = []\n",
    "\n",
    "for line in sequences:\n",
    "    temp_X = [char_to_index[ch] for ch in line]\n",
    "    X.append(temp_X)"
   ]
  },
  {
   "cell_type": "code",
   "execution_count": 35,
   "id": "a44ba226",
   "metadata": {},
   "outputs": [
    {
     "name": "stdout",
     "output_type": "stream",
     "text": [
      "[8, 0, 16, 14, 28, 0, 24, 23, 0, 31, 18]\n",
      "[0, 16, 14, 28, 0, 24, 23, 0, 31, 18, 28]\n",
      "[16, 14, 28, 0, 24, 23, 0, 31, 18, 28, 17]\n",
      "[14, 28, 0, 24, 23, 0, 31, 18, 28, 17, 0]\n",
      "[28, 0, 24, 23, 0, 31, 18, 28, 17, 0, 21]\n"
     ]
    }
   ],
   "source": [
    "for line in X[:5]:\n",
    "    print(line)"
   ]
  },
  {
   "cell_type": "code",
   "execution_count": 36,
   "id": "3091fa80",
   "metadata": {},
   "outputs": [],
   "source": [
    "sequences = np.array(X)\n",
    "X = sequences[:,:-1]\n",
    "y = sequences[:,-1]"
   ]
  },
  {
   "cell_type": "code",
   "execution_count": 37,
   "id": "2d375cc8",
   "metadata": {},
   "outputs": [
    {
     "name": "stdout",
     "output_type": "stream",
     "text": [
      "[18 28 17  0 21]\n"
     ]
    }
   ],
   "source": [
    "print(y[:5])"
   ]
  },
  {
   "cell_type": "code",
   "execution_count": 38,
   "id": "81825b7e",
   "metadata": {},
   "outputs": [],
   "source": [
    "temp_cate = [to_categorical(data, num_classes=vocab_size) for data in X]\n",
    "X = np.array(temp_cate)\n",
    "y = to_categorical(y, num_classes=vocab_size)"
   ]
  },
  {
   "cell_type": "code",
   "execution_count": 39,
   "id": "d4e21b1f",
   "metadata": {},
   "outputs": [
    {
     "name": "stdout",
     "output_type": "stream",
     "text": [
      "(426, 10, 33)\n",
      "(426, 33)\n"
     ]
    }
   ],
   "source": [
    "print(X.shape)\n",
    "print(y.shape)"
   ]
  },
  {
   "attachments": {
    "image.png": {
     "image/png": "[encoded data removed]"
    }
   },
   "cell_type": "markdown",
   "id": "0710caee",
   "metadata": {},
   "source": [
    "![image.png](attachment:image.png)"
   ]
  },
  {
   "cell_type": "markdown",
   "id": "c4d44d58",
   "metadata": {},
   "source": [
    "### 2) 모델 설계하기"
   ]
  },
  {
   "cell_type": "code",
   "execution_count": 40,
   "id": "e5efa874",
   "metadata": {},
   "outputs": [],
   "source": [
    "from tensorflow.keras.models import Sequential\n",
    "from tensorflow.keras.layers import Dense, LSTM\n",
    "from tensorflow.keras.preprocessing.sequence import pad_sequences"
   ]
  },
  {
   "cell_type": "code",
   "execution_count": 41,
   "id": "d3b4d268",
   "metadata": {},
   "outputs": [
    {
     "name": "stderr",
     "output_type": "stream",
     "text": [
      "2021-08-11 18:55:43.099294: W tensorflow/stream_executor/platform/default/dso_loader.cc:64] Could not load dynamic library 'libcuda.so.1'; dlerror: libcuda.so.1: cannot open shared object file: No such file or directory\n",
      "2021-08-11 18:55:43.099325: W tensorflow/stream_executor/cuda/cuda_driver.cc:326] failed call to cuInit: UNKNOWN ERROR (303)\n",
      "2021-08-11 18:55:43.099349: I tensorflow/stream_executor/cuda/cuda_diagnostics.cc:156] kernel driver does not appear to be running on this host (jaehoon-15ZD980-GX76K): /proc/driver/nvidia/version does not exist\n",
      "2021-08-11 18:55:43.099577: I tensorflow/core/platform/cpu_feature_guard.cc:142] This TensorFlow binary is optimized with oneAPI Deep Neural Network Library (oneDNN) to use the following CPU instructions in performance-critical operations:  AVX2 FMA\n",
      "To enable them in other operations, rebuild TensorFlow with the appropriate compiler flags.\n"
     ]
    }
   ],
   "source": [
    "model = Sequential()\n",
    "model.add(LSTM(80, input_shape=(X.shape[1], X.shape[2])))\n",
    "model.add(Dense(vocab_size, activation='softmax'))"
   ]
  },
  {
   "cell_type": "code",
   "execution_count": 42,
   "id": "0244c0ca",
   "metadata": {},
   "outputs": [
    {
     "name": "stderr",
     "output_type": "stream",
     "text": [
      "2021-08-11 18:55:49.385107: I tensorflow/compiler/mlir/mlir_graph_optimization_pass.cc:176] None of the MLIR Optimization Passes are enabled (registered 2)\n",
      "2021-08-11 18:55:49.406455: I tensorflow/core/platform/profile_utils/cpu_utils.cc:114] CPU Frequency: 1999965000 Hz\n"
     ]
    },
    {
     "name": "stdout",
     "output_type": "stream",
     "text": [
      "Epoch 1/100\n",
      "14/14 - 1s - loss: 3.4644 - accuracy: 0.1573\n",
      "Epoch 2/100\n",
      "14/14 - 0s - loss: 3.3141 - accuracy: 0.1972\n",
      "Epoch 3/100\n",
      "14/14 - 0s - loss: 3.0381 - accuracy: 0.1972\n",
      "Epoch 4/100\n",
      "14/14 - 0s - loss: 2.9816 - accuracy: 0.1972\n",
      "Epoch 5/100\n",
      "14/14 - 0s - loss: 2.9452 - accuracy: 0.1972\n",
      "Epoch 6/100\n",
      "14/14 - 0s - loss: 2.9237 - accuracy: 0.1972\n",
      "Epoch 7/100\n",
      "14/14 - 0s - loss: 2.9046 - accuracy: 0.1972\n",
      "Epoch 8/100\n",
      "14/14 - 0s - loss: 2.8762 - accuracy: 0.1972\n",
      "Epoch 9/100\n",
      "14/14 - 0s - loss: 2.8512 - accuracy: 0.1972\n",
      "Epoch 10/100\n",
      "14/14 - 0s - loss: 2.8185 - accuracy: 0.2019\n",
      "Epoch 11/100\n",
      "14/14 - 0s - loss: 2.7914 - accuracy: 0.2136\n",
      "Epoch 12/100\n",
      "14/14 - 0s - loss: 2.7359 - accuracy: 0.2230\n",
      "Epoch 13/100\n",
      "14/14 - 0s - loss: 2.7009 - accuracy: 0.2089\n",
      "Epoch 14/100\n",
      "14/14 - 0s - loss: 2.6548 - accuracy: 0.2559\n",
      "Epoch 15/100\n",
      "14/14 - 0s - loss: 2.6205 - accuracy: 0.2488\n",
      "Epoch 16/100\n",
      "14/14 - 0s - loss: 2.5501 - accuracy: 0.2746\n",
      "Epoch 17/100\n",
      "14/14 - 0s - loss: 2.5001 - accuracy: 0.2934\n",
      "Epoch 18/100\n",
      "14/14 - 0s - loss: 2.4656 - accuracy: 0.2887\n",
      "Epoch 19/100\n",
      "14/14 - 0s - loss: 2.4364 - accuracy: 0.2840\n",
      "Epoch 20/100\n",
      "14/14 - 0s - loss: 2.3662 - accuracy: 0.3239\n",
      "Epoch 21/100\n",
      "14/14 - 0s - loss: 2.3185 - accuracy: 0.3169\n",
      "Epoch 22/100\n",
      "14/14 - 0s - loss: 2.2773 - accuracy: 0.3146\n",
      "Epoch 23/100\n",
      "14/14 - 0s - loss: 2.2283 - accuracy: 0.3685\n",
      "Epoch 24/100\n",
      "14/14 - 0s - loss: 2.1764 - accuracy: 0.3709\n",
      "Epoch 25/100\n",
      "14/14 - 0s - loss: 2.1238 - accuracy: 0.3756\n",
      "Epoch 26/100\n",
      "14/14 - 0s - loss: 2.0764 - accuracy: 0.3779\n",
      "Epoch 27/100\n",
      "14/14 - 0s - loss: 2.0402 - accuracy: 0.4014\n",
      "Epoch 28/100\n",
      "14/14 - 0s - loss: 2.0197 - accuracy: 0.4131\n",
      "Epoch 29/100\n",
      "14/14 - 0s - loss: 1.9775 - accuracy: 0.4484\n",
      "Epoch 30/100\n",
      "14/14 - 0s - loss: 1.9535 - accuracy: 0.4319\n",
      "Epoch 31/100\n",
      "14/14 - 0s - loss: 1.8720 - accuracy: 0.4718\n",
      "Epoch 32/100\n",
      "14/14 - 0s - loss: 1.8243 - accuracy: 0.4671\n",
      "Epoch 33/100\n",
      "14/14 - 0s - loss: 1.7897 - accuracy: 0.5141\n",
      "Epoch 34/100\n",
      "14/14 - 0s - loss: 1.7552 - accuracy: 0.4953\n",
      "Epoch 35/100\n",
      "14/14 - 0s - loss: 1.7005 - accuracy: 0.5352\n",
      "Epoch 36/100\n",
      "14/14 - 0s - loss: 1.6722 - accuracy: 0.5587\n",
      "Epoch 37/100\n",
      "14/14 - 0s - loss: 1.6238 - accuracy: 0.5423\n",
      "Epoch 38/100\n",
      "14/14 - 0s - loss: 1.5823 - accuracy: 0.5587\n",
      "Epoch 39/100\n",
      "14/14 - 0s - loss: 1.5314 - accuracy: 0.6056\n",
      "Epoch 40/100\n",
      "14/14 - 0s - loss: 1.4816 - accuracy: 0.6080\n",
      "Epoch 41/100\n",
      "14/14 - 0s - loss: 1.4430 - accuracy: 0.6103\n",
      "Epoch 42/100\n",
      "14/14 - 0s - loss: 1.3863 - accuracy: 0.6502\n",
      "Epoch 43/100\n",
      "14/14 - 0s - loss: 1.3710 - accuracy: 0.6408\n",
      "Epoch 44/100\n",
      "14/14 - 0s - loss: 1.3097 - accuracy: 0.6479\n",
      "Epoch 45/100\n",
      "14/14 - 0s - loss: 1.2709 - accuracy: 0.6761\n",
      "Epoch 46/100\n",
      "14/14 - 0s - loss: 1.2382 - accuracy: 0.6925\n",
      "Epoch 47/100\n",
      "14/14 - 0s - loss: 1.2024 - accuracy: 0.6995\n",
      "Epoch 48/100\n",
      "14/14 - 0s - loss: 1.1791 - accuracy: 0.7042\n",
      "Epoch 49/100\n",
      "14/14 - 0s - loss: 1.1354 - accuracy: 0.7183\n",
      "Epoch 50/100\n",
      "14/14 - 0s - loss: 1.1015 - accuracy: 0.7418\n",
      "Epoch 51/100\n",
      "14/14 - 0s - loss: 1.0639 - accuracy: 0.7512\n",
      "Epoch 52/100\n",
      "14/14 - 0s - loss: 1.0461 - accuracy: 0.7371\n",
      "Epoch 53/100\n",
      "14/14 - 0s - loss: 1.0060 - accuracy: 0.7700\n",
      "Epoch 54/100\n",
      "14/14 - 0s - loss: 0.9833 - accuracy: 0.7629\n",
      "Epoch 55/100\n",
      "14/14 - 0s - loss: 0.9335 - accuracy: 0.7700\n",
      "Epoch 56/100\n",
      "14/14 - 0s - loss: 0.8956 - accuracy: 0.7887\n",
      "Epoch 57/100\n",
      "14/14 - 0s - loss: 0.8800 - accuracy: 0.7864\n",
      "Epoch 58/100\n",
      "14/14 - 0s - loss: 0.8602 - accuracy: 0.8099\n",
      "Epoch 59/100\n",
      "14/14 - 0s - loss: 0.8262 - accuracy: 0.8052\n",
      "Epoch 60/100\n",
      "14/14 - 0s - loss: 0.8000 - accuracy: 0.8169\n",
      "Epoch 61/100\n",
      "14/14 - 0s - loss: 0.7655 - accuracy: 0.8451\n",
      "Epoch 62/100\n",
      "14/14 - 0s - loss: 0.7292 - accuracy: 0.8498\n",
      "Epoch 63/100\n",
      "14/14 - 0s - loss: 0.7026 - accuracy: 0.8592\n",
      "Epoch 64/100\n",
      "14/14 - 0s - loss: 0.6907 - accuracy: 0.8685\n",
      "Epoch 65/100\n",
      "14/14 - 0s - loss: 0.6708 - accuracy: 0.8779\n",
      "Epoch 66/100\n",
      "14/14 - 0s - loss: 0.6215 - accuracy: 0.8756\n",
      "Epoch 67/100\n",
      "14/14 - 0s - loss: 0.6015 - accuracy: 0.8920\n",
      "Epoch 68/100\n",
      "14/14 - 0s - loss: 0.5690 - accuracy: 0.8991\n",
      "Epoch 69/100\n",
      "14/14 - 0s - loss: 0.5551 - accuracy: 0.9108\n",
      "Epoch 70/100\n",
      "14/14 - 0s - loss: 0.5642 - accuracy: 0.9014\n",
      "Epoch 71/100\n",
      "14/14 - 0s - loss: 0.5430 - accuracy: 0.9108\n",
      "Epoch 72/100\n",
      "14/14 - 0s - loss: 0.5121 - accuracy: 0.9155\n",
      "Epoch 73/100\n",
      "14/14 - 0s - loss: 0.4863 - accuracy: 0.9202\n",
      "Epoch 74/100\n",
      "14/14 - 0s - loss: 0.4643 - accuracy: 0.9460\n",
      "Epoch 75/100\n",
      "14/14 - 0s - loss: 0.4409 - accuracy: 0.9319\n",
      "Epoch 76/100\n",
      "14/14 - 0s - loss: 0.4195 - accuracy: 0.9437\n",
      "Epoch 77/100\n",
      "14/14 - 0s - loss: 0.4003 - accuracy: 0.9460\n",
      "Epoch 78/100\n",
      "14/14 - 0s - loss: 0.3882 - accuracy: 0.9507\n",
      "Epoch 79/100\n",
      "14/14 - 0s - loss: 0.3683 - accuracy: 0.9648\n",
      "Epoch 80/100\n",
      "14/14 - 0s - loss: 0.3608 - accuracy: 0.9554\n",
      "Epoch 81/100\n",
      "14/14 - 0s - loss: 0.3486 - accuracy: 0.9577\n",
      "Epoch 82/100\n",
      "14/14 - 0s - loss: 0.3422 - accuracy: 0.9648\n",
      "Epoch 83/100\n",
      "14/14 - 0s - loss: 0.3262 - accuracy: 0.9695\n",
      "Epoch 84/100\n",
      "14/14 - 0s - loss: 0.3164 - accuracy: 0.9671\n",
      "Epoch 85/100\n",
      "14/14 - 0s - loss: 0.3100 - accuracy: 0.9601\n",
      "Epoch 86/100\n",
      "14/14 - 0s - loss: 0.2970 - accuracy: 0.9695\n",
      "Epoch 87/100\n",
      "14/14 - 0s - loss: 0.2981 - accuracy: 0.9671\n",
      "Epoch 88/100\n",
      "14/14 - 0s - loss: 0.2987 - accuracy: 0.9671\n",
      "Epoch 89/100\n",
      "14/14 - 0s - loss: 0.2770 - accuracy: 0.9648\n",
      "Epoch 90/100\n",
      "14/14 - 0s - loss: 0.2809 - accuracy: 0.9671\n",
      "Epoch 91/100\n",
      "14/14 - 0s - loss: 0.2618 - accuracy: 0.9718\n",
      "Epoch 92/100\n",
      "14/14 - 0s - loss: 0.2520 - accuracy: 0.9695\n",
      "Epoch 93/100\n",
      "14/14 - 0s - loss: 0.2364 - accuracy: 0.9789\n",
      "Epoch 94/100\n",
      "14/14 - 0s - loss: 0.2260 - accuracy: 0.9695\n",
      "Epoch 95/100\n",
      "14/14 - 0s - loss: 0.2224 - accuracy: 0.9695\n",
      "Epoch 96/100\n",
      "14/14 - 0s - loss: 0.2106 - accuracy: 0.9765\n",
      "Epoch 97/100\n",
      "14/14 - 0s - loss: 0.2118 - accuracy: 0.9718\n",
      "Epoch 98/100\n",
      "14/14 - 0s - loss: 0.2012 - accuracy: 0.9742\n",
      "Epoch 99/100\n",
      "14/14 - 0s - loss: 0.2015 - accuracy: 0.9812\n",
      "Epoch 100/100\n",
      "14/14 - 0s - loss: 0.1869 - accuracy: 0.9765\n"
     ]
    },
    {
     "data": {
      "text/plain": [
       "<tensorflow.python.keras.callbacks.History at 0x7fb8c9683a30>"
      ]
     },
     "execution_count": 42,
     "metadata": {},
     "output_type": "execute_result"
    }
   ],
   "source": [
    "model.compile(loss='categorical_crossentropy', optimizer='adam', metrics=['accuracy'])\n",
    "model.fit(X, y, epochs=100, verbose=2)"
   ]
  },
  {
   "cell_type": "code",
   "execution_count": 43,
   "id": "2556bb01",
   "metadata": {},
   "outputs": [],
   "source": [
    "def sentence_generation(model, char_to_index, seq_length, seed_text, n):\n",
    "# 모델, 인덱스 정보, 문장 길이, 초기 시퀀스, 반복 횟수\n",
    "    init_text = seed_text # 문장 생성에 사용할 초기 시퀀스\n",
    "    sentence = ''\n",
    "\n",
    "    for _ in range(n): # n번 반복\n",
    "        encoded = [char_to_index[char] for char in seed_text] # 현재 시퀀스에 대한 정수 인코딩\n",
    "        encoded = pad_sequences([encoded], maxlen=seq_length, padding='pre') # 데이터에 대한 패딩\n",
    "        encoded = to_categorical(encoded, num_classes=len(char_to_index))\n",
    "        result = model.predict_classes(encoded, verbose=0)\n",
    "        # 입력한 X(현재 시퀀스)에 대해서 y를 예측하고 y(예측한 글자)를 result에 저장.\n",
    "        for char, index in char_to_index.items(): # 만약 예측한 글자와 인덱스와 동일한 글자가 있다면\n",
    "            if index == result: # 해당 글자가 예측 글자이므로 break\n",
    "                break\n",
    "        seed_text=seed_text + char # 현재 시퀀스 + 예측 글자를 현재 시퀀스로 변경\n",
    "        sentence=sentence + char # 예측 글자를 문장에 저장\n",
    "        # for문이므로 이 작업을 다시 반복\n",
    "\n",
    "    sentence = init_text + sentence\n",
    "    return sentence"
   ]
  },
  {
   "cell_type": "code",
   "execution_count": 52,
   "id": "b8b7b092",
   "metadata": {},
   "outputs": [
    {
     "name": "stdout",
     "output_type": "stream",
     "text": [
      "I get on with life as a programmer, I like to hang out with programming and deep learning.\n"
     ]
    }
   ],
   "source": [
    "print(sentence_generation(model, char_to_index, 10, 'I get on w', 80))"
   ]
  }
 ],
 "metadata": {
  "kernelspec": {
   "display_name": "Python 3 (ipykernel)",
   "language": "python",
   "name": "python3"
  },
  "language_info": {
   "codemirror_mode": {
    "name": "ipython",
    "version": 3
   },
   "file_extension": ".py",
   "mimetype": "text/x-python",
   "name": "python",
   "nbconvert_exporter": "python",
   "pygments_lexer": "ipython3",
   "version": "3.8.10"
  }
 },
 "nbformat": 4,
 "nbformat_minor": 5
}
